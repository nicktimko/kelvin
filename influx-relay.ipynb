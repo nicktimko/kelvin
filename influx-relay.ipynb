{
 "cells": [
  {
   "cell_type": "markdown",
   "id": "c536a373",
   "metadata": {},
   "source": [
    "# Influx Relay\n",
    "\n",
    "Example on how to send data into influx:\n",
    "```\n",
    "curl -i -XPOST 'http://localhost:8086/write?db=mydb' \\\n",
    "--data-binary 'cpu_load_short,host=server01,region=us-west value=0.64 1434055562000000000'\n",
    "```"
   ]
  },
  {
   "cell_type": "code",
   "execution_count": null,
   "id": "0342088e",
   "metadata": {},
   "outputs": [],
   "source": [
    "import datetime\n",
    "import time\n",
    "\n",
    "import requests\n",
    "\n",
    "import gmg.info\n",
    "import gmg.net\n",
    "import gmg.util"
   ]
  },
  {
   "cell_type": "code",
   "execution_count": null,
   "id": "d2711f9a",
   "metadata": {},
   "outputs": [],
   "source": [
    "grills = gmg.net.find_grills(\"192.168.42.0/24\")\n",
    "grill = grills[0]\n",
    "grill"
   ]
  },
  {
   "cell_type": "code",
   "execution_count": null,
   "id": "21c84b4b",
   "metadata": {},
   "outputs": [],
   "source": [
    "gmg.info.get(grill)"
   ]
  },
  {
   "cell_type": "code",
   "execution_count": null,
   "id": "d1e0c354",
   "metadata": {},
   "outputs": [],
   "source": [
    "gmg.info.get(grill)"
   ]
  },
  {
   "cell_type": "code",
   "execution_count": null,
   "id": "256fffc6",
   "metadata": {},
   "outputs": [],
   "source": [
    "influx_addr = \"http://192.168.42.10:8086\""
   ]
  },
  {
   "cell_type": "code",
   "execution_count": null,
   "id": "47ff26bc",
   "metadata": {},
   "outputs": [],
   "source": [
    "import typing\n",
    "\n",
    "class DataPoint(typing.NamedTuple):\n",
    "    name: str\n",
    "    tags: dict\n",
    "    value: float\n",
    "    time_ns: int"
   ]
  },
  {
   "cell_type": "code",
   "execution_count": null,
   "id": "2da012c1",
   "metadata": {},
   "outputs": [],
   "source": [
    "def points_to_data(lines):\n",
    "    return \"\\n\".join(\n",
    "        \"{name},{tags} value={value} {ts}\".format(\n",
    "            name=l.name,\n",
    "            tags=(\",\".join(f\"{k}={v}\" for k, v in l.tags.items())),\n",
    "            value=l.value,\n",
    "            ts=l.time_ns,\n",
    "        )\n",
    "        for l in lines\n",
    "    )"
   ]
  },
  {
   "cell_type": "code",
   "execution_count": null,
   "id": "01e2bcbd",
   "metadata": {},
   "outputs": [],
   "source": [
    "def write_influx(addr, data, db=\"kelvin\"):\n",
    "    url = addr + \"/write\"\n",
    "    params = {\"db\": db}\n",
    "    headers = {'Content-Type': 'application/octet-stream'}\n",
    "    response = requests.post(url, params=params, data=data, headers=headers)\n",
    "    return response"
   ]
  },
  {
   "cell_type": "code",
   "execution_count": null,
   "id": "f98ef46e",
   "metadata": {},
   "outputs": [],
   "source": [
    "import struct"
   ]
  },
  {
   "cell_type": "code",
   "execution_count": null,
   "id": "44138c8e",
   "metadata": {},
   "outputs": [],
   "source": [
    "every_x = 5\n",
    "while True:\n",
    "    now = time.time()\n",
    "    every_x_sleep_time = ((now // every_x) + 1) * every_x - now\n",
    "    time.sleep(max(0.5, every_x_sleep_time))\n",
    "    \n",
    "    points = []\n",
    "    try:\n",
    "        data = gmg.info.get(grill)\n",
    "    except (TimeoutError, RuntimeError) as exc:\n",
    "        print(datetime.datetime.now().isoformat(), exc)\n",
    "        time.sleep(1)\n",
    "        continue\n",
    "    \n",
    "    now_ns = round(time.time_ns(), -8)\n",
    "    \n",
    "    for sensor in [\"grill_temp\", \"grill_target\", \"probe1_temp\", \"probe2_temp\"]:\n",
    "        if data[sensor] > 600:\n",
    "            continue\n",
    "        points.append(DataPoint(\n",
    "            name=\"temp_f\",\n",
    "            tags={\"source\": \"gmg1\", \"sensor\": sensor},\n",
    "            value=data[sensor],\n",
    "            time_ns=now_ns,\n",
    "        ))\n",
    "    \n",
    "    for state in [\"fire_state\", \"fire_state_pct\"]:\n",
    "        points.append(DataPoint(\n",
    "            name=\"grill_fire\",\n",
    "            tags={\"source\": \"gmg1\", \"sensor\": state},\n",
    "            value=data[state],\n",
    "            time_ns=now_ns,\n",
    "        ))\n",
    "        \n",
    "    \n",
    "    points.append(DataPoint(\n",
    "        name=\"grill_warnings\",\n",
    "        tags={\"source\": \"gmg1\"},\n",
    "        value=data[\"warn_code\"],\n",
    "        time_ns=now_ns,\n",
    "    ))\n",
    "\n",
    "    data = points_to_data(points)\n",
    "    write_influx(influx_addr, data)"
   ]
  },
  {
   "cell_type": "code",
   "execution_count": null,
   "id": "58e7a6d9",
   "metadata": {},
   "outputs": [],
   "source": []
  }
 ],
 "metadata": {
  "kernelspec": {
   "display_name": "Global 3.8",
   "language": "python",
   "name": "global3"
  },
  "language_info": {
   "codemirror_mode": {
    "name": "ipython",
    "version": 3
   },
   "file_extension": ".py",
   "mimetype": "text/x-python",
   "name": "python",
   "nbconvert_exporter": "python",
   "pygments_lexer": "ipython3",
   "version": "3.8.10"
  }
 },
 "nbformat": 4,
 "nbformat_minor": 5
}
