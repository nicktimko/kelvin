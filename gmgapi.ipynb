{
 "cells": [
  {
   "cell_type": "code",
   "execution_count": 1,
   "id": "aeb000d3",
   "metadata": {},
   "outputs": [],
   "source": [
    "import socket\n",
    "import struct"
   ]
  },
  {
   "cell_type": "markdown",
   "id": "c2831abf",
   "metadata": {},
   "source": [
    "# API"
   ]
  },
  {
   "cell_type": "code",
   "execution_count": 2,
   "id": "6cb2b44d",
   "metadata": {},
   "outputs": [],
   "source": [
    "INFO = b\"UR001!\"\n",
    "ID = b\"UL!\"\n",
    "FIRMWARE = b\"UN!\"\n",
    "POWER_ON = b\"UK001!\"\n",
    "POWER_OFF = b\"UK004!\"\n",
    "\n",
    "def set_grill_temp(temp_f):\n",
    "    if not (150 <= temp_f <= 450):\n",
    "        raise ValueError(\"invalid temperature\")\n",
    "    return b\"UT???!\".replace(b\"???\", format(temp_f, \"03d\").encode(\"ascii\"))\n",
    "\n",
    "def set_probe_temp(temp_f):\n",
    "    if not (50 <= temp_f <= 220):\n",
    "        raise ValueError(\"invalid temperature\")\n",
    "    return b\"UF{}!\"\n",
    "\n",
    "def broadcast():\n",
    "    return \"UH{}{}{}{}{}!\".format(0, len(ssid), ssid, len(password), password)"
   ]
  },
  {
   "cell_type": "code",
   "execution_count": 3,
   "id": "efcfccf0",
   "metadata": {},
   "outputs": [
    {
     "data": {
      "text/plain": [
       "b'UT234!'"
      ]
     },
     "execution_count": 3,
     "metadata": {},
     "output_type": "execute_result"
    }
   ],
   "source": [
    "set_grill_temp(234)"
   ]
  },
  {
   "cell_type": "code",
   "execution_count": 4,
   "id": "8a91f64e",
   "metadata": {},
   "outputs": [],
   "source": [
    "import base64\n",
    "import fcntl\n",
    "import ipaddress\n",
    "import socket\n",
    "import subprocess"
   ]
  },
  {
   "cell_type": "code",
   "execution_count": 5,
   "id": "0828c2b9",
   "metadata": {},
   "outputs": [
    {
     "data": {
      "text/plain": [
       "[(1, 'lo'),\n",
       " (2, 'wwan0'),\n",
       " (3, 'wlp58s0'),\n",
       " (4, 'tailscale0'),\n",
       " (5, 'anbox0'),\n",
       " (6, 'br-8df54316e2a9'),\n",
       " (7, 'br-63aed09d3259'),\n",
       " (8, 'br-73fb78ea0798'),\n",
       " (9, 'docker0'),\n",
       " (10, 'ens1')]"
      ]
     },
     "execution_count": 5,
     "metadata": {},
     "output_type": "execute_result"
    }
   ],
   "source": [
    "socket.if_nameindex()"
   ]
  },
  {
   "cell_type": "code",
   "execution_count": 6,
   "id": "a096ff28",
   "metadata": {},
   "outputs": [
    {
     "data": {
      "text/plain": [
       "'255.255.255.0'"
      ]
     },
     "execution_count": 6,
     "metadata": {},
     "output_type": "execute_result"
    }
   ],
   "source": [
    "iface = \"wlp58s0\"\n",
    "socket.inet_ntoa(\n",
    "    fcntl.ioctl(\n",
    "        socket.socket(socket.AF_INET, socket.SOCK_DGRAM),\n",
    "        35099,\n",
    "        struct.pack('256s', iface.encode(\"ascii\"))\n",
    "    )[20:24]\n",
    ")"
   ]
  },
  {
   "cell_type": "code",
   "execution_count": 7,
   "id": "f406c11c",
   "metadata": {},
   "outputs": [],
   "source": [
    "class MAC:\n",
    "    \"\"\"MAC or MAC Prefix\"\"\"\n",
    "    def __init__(self, address):\n",
    "        self.raw = base64.b16decode(address.replace(\":\", \"\"), casefold=True)\n",
    "\n",
    "    def __repr__(self):\n",
    "        return f\"{self.__class__.__name__}(address='{self}')\"\n",
    "\n",
    "    def __str__(self):\n",
    "        return \":\".join(hex(b)[2:] for b in self.raw)\n",
    "    \n",
    "    def __contains__(self, other):\n",
    "        \"\"\"Does this MAC prefix contain the provided MAC?\"\"\"\n",
    "        return other.raw.startswith(self.raw)"
   ]
  },
  {
   "cell_type": "code",
   "execution_count": 8,
   "id": "7a6bf582",
   "metadata": {},
   "outputs": [
    {
     "data": {
      "text/plain": [
       "True"
      ]
     },
     "execution_count": 8,
     "metadata": {},
     "output_type": "execute_result"
    }
   ],
   "source": [
    "x = MAC(\"7C:a7\")\n",
    "x in MAC(\"7c\")"
   ]
  },
  {
   "cell_type": "code",
   "execution_count": 9,
   "id": "5b4c324c",
   "metadata": {},
   "outputs": [
    {
     "data": {
      "text/plain": [
       "b'|\\xa7\\xb0'"
      ]
     },
     "execution_count": 9,
     "metadata": {},
     "output_type": "execute_result"
    }
   ],
   "source": [
    "base64.b16decode(\"7C:a7:b0\".replace(\":\", \"\"), casefold=True)"
   ]
  },
  {
   "cell_type": "code",
   "execution_count": 10,
   "id": "0bdacd4c",
   "metadata": {},
   "outputs": [],
   "source": [
    "def local_macs(cidr):\n",
    "    network = ipaddress.IPv4Network(cidr)\n",
    "    # attempt connection to everything to populate ARP\n",
    "    subprocess.check_output([\"nmap\", \"-sP\", str(network)])\n",
    "    \n",
    "    # dump ARP table\n",
    "    neighbors = subprocess.check_output([\"ip\", \"neighbor\", \"show\"], universal_newlines=True)\n",
    "    \n",
    "    # and parse output from `ip neigh`\n",
    "    arp_pairs = []\n",
    "    for line in neighbors.splitlines():\n",
    "        ip, _dev, interface, result = line.split(\" \", 3)\n",
    "        result = result.strip()\n",
    "        if \"lladdr\" not in result:\n",
    "            # FAILED, INCOMPLETE, etc.\n",
    "            continue\n",
    "        # REACHABLE, STALE, DELAY, etc.\n",
    "        _lladdr, mac, status = result.split()\n",
    "        arp_pairs.append((ip, mac))\n",
    "\n",
    "    return arp_pairs"
   ]
  },
  {
   "cell_type": "code",
   "execution_count": 11,
   "id": "2793b7ac",
   "metadata": {},
   "outputs": [],
   "source": [
    "macs = local_macs(\"192.168.42.0/24\")"
   ]
  },
  {
   "cell_type": "code",
   "execution_count": 12,
   "id": "93465e2e",
   "metadata": {},
   "outputs": [
    {
     "data": {
      "text/plain": [
       "'192.168.42.245'"
      ]
     },
     "execution_count": 12,
     "metadata": {},
     "output_type": "execute_result"
    }
   ],
   "source": [
    "gmg_mac = \"7c:a7:b0:af:4e:58\"\n",
    "mac_to_ip = {mac: ip for ip, mac in macs}\n",
    "\n",
    "mac_to_ip[gmg_mac]"
   ]
  },
  {
   "cell_type": "code",
   "execution_count": 13,
   "id": "692228d0",
   "metadata": {},
   "outputs": [],
   "source": [
    "def send_command(command: bytes, ip, port=8080):\n",
    "    address = (ip, port)\n",
    "    with socket.socket(family=socket.AF_INET, type=socket.SOCK_DGRAM) as sock:\n",
    "        sock.connect(address)\n",
    "        sock.send(command)\n",
    "        return sock.recv(128)"
   ]
  },
  {
   "cell_type": "code",
   "execution_count": 14,
   "id": "3895e737",
   "metadata": {},
   "outputs": [
    {
     "data": {
      "text/plain": [
       "b'GMG12'"
      ]
     },
     "execution_count": 14,
     "metadata": {},
     "output_type": "execute_result"
    }
   ],
   "source": [
    "send_command(ID, mac_to_ip[gmg_mac])[:5]"
   ]
  },
  {
   "cell_type": "code",
   "execution_count": 15,
   "id": "e31fd2c3",
   "metadata": {},
   "outputs": [
    {
     "data": {
      "text/plain": [
       "b'UNDB0'"
      ]
     },
     "execution_count": 15,
     "metadata": {},
     "output_type": "execute_result"
    }
   ],
   "source": [
    "send_command(FIRMWARE, mac_to_ip[gmg_mac])[:5]"
   ]
  },
  {
   "cell_type": "code",
   "execution_count": 16,
   "id": "303fbdf8",
   "metadata": {},
   "outputs": [
    {
     "data": {
      "text/plain": [
       "b'UR\\x12\\x00Y\\x02\\x96\\x00\\x05\\n\\x142\\x19\\x19\\x19\\x19\\x17\\x00\\x00\\x00\\xff\\xff\\xff\\xff\\x00\\x00\\x00\\x00\\x00\\x00\\x00\\x00\\x01\\x00\\x00\\x03'"
      ]
     },
     "execution_count": 16,
     "metadata": {},
     "output_type": "execute_result"
    }
   ],
   "source": [
    "send_command(INFO, mac_to_ip[gmg_mac])"
   ]
  },
  {
   "cell_type": "code",
   "execution_count": 17,
   "id": "d778909e",
   "metadata": {},
   "outputs": [],
   "source": [
    "import base64\n",
    "import struct"
   ]
  },
  {
   "cell_type": "code",
   "execution_count": 19,
   "id": "f58d8720",
   "metadata": {},
   "outputs": [
    {
     "data": {
      "text/plain": [
       "36"
      ]
     },
     "execution_count": 19,
     "metadata": {},
     "output_type": "execute_result"
    }
   ],
   "source": [
    "info_data = send_command(INFO, mac_to_ip[gmg_mac])\n",
    "len(info_data)"
   ]
  },
  {
   "cell_type": "code",
   "execution_count": 20,
   "id": "1ec445f8",
   "metadata": {},
   "outputs": [
    {
     "data": {
      "text/plain": [
       "b'UR\\x12\\x00Y\\x02\\x96\\x00\\x05\\n\\x142\\x19\\x19\\x19\\x19\\x16\\x00\\x00\\x00\\xff\\xff\\xff\\xff\\x00\\x00\\x00\\x00\\x00\\x00\\x00\\x00\\x01\\x00\\x00\\x03'"
      ]
     },
     "execution_count": 20,
     "metadata": {},
     "output_type": "execute_result"
    }
   ],
   "source": [
    "info_data"
   ]
  },
  {
   "cell_type": "code",
   "execution_count": 21,
   "id": "6f4e0d76",
   "metadata": {
    "scrolled": true
   },
   "outputs": [
    {
     "data": {
      "text/plain": [
       "b'5552120059029600050A14321919191916000000FFFFFFFF000000000000000001000003'"
      ]
     },
     "execution_count": 21,
     "metadata": {},
     "output_type": "execute_result"
    }
   ],
   "source": [
    "base64.b16encode(info_data)"
   ]
  },
  {
   "cell_type": "code",
   "execution_count": 24,
   "id": "dd063b23",
   "metadata": {},
   "outputs": [],
   "source": [
    "import subprocess\n",
    "\n",
    "def xxd(buf):\n",
    "    \"\"\"call xxd on some binary\"\"\"\n",
    "    p = subprocess.Popen(['xxd', \"-\"], stdout=subprocess.PIPE, stdin=subprocess.PIPE, stderr=subprocess.PIPE)\n",
    "    stdout_data = p.communicate(input=buf)[0].decode()\n",
    "    print(stdout_data)"
   ]
  },
  {
   "cell_type": "code",
   "execution_count": 25,
   "id": "bf72df1f",
   "metadata": {},
   "outputs": [
    {
     "name": "stdout",
     "output_type": "stream",
     "text": [
      "00000000: 5552 1200 5902 9600 050a 1432 1919 1919  UR..Y......2....\n",
      "00000010: 1600 0000 ffff ffff 0000 0000 0000 0000  ................\n",
      "00000020: 0100 0003                                ....\n",
      "\n"
     ]
    }
   ],
   "source": [
    "xxd(info_data)"
   ]
  },
  {
   "cell_type": "markdown",
   "id": "be2abff2",
   "metadata": {},
   "source": [
    "# Grill Data Format"
   ]
  },
  {
   "cell_type": "code",
   "execution_count": 75,
   "id": "0bd407a4",
   "metadata": {},
   "outputs": [],
   "source": [
    "spec = [\n",
    "    (\"2x\", \"?\"), # always \"UR\"\n",
    "    (\"h\", \"grill_temp\"),   # 2-3\n",
    "    (\"h\", \"probe1_temp\"),  # 4-5\n",
    "    (\"h\", \"grill_target\"), # 6-7\n",
    "    (\"b\", \"_08\"), # 8\n",
    "    (\"b\", \"_09\"), # 9\n",
    "    (\"b\", \"_10\"), # 10\n",
    "    (\"b\", \"_11\"), # 11\n",
    "    (\"b\", \"_12\"), # 12\n",
    "    (\"b\", \"_13\"), # 13\n",
    "    (\"b\", \"_14\"), # 14\n",
    "    (\"b\", \"_15\"), # 15\n",
    "    (\"h\", \"probe2_temp\"),\n",
    "    (\"h\", \"probe2_target\"),\n",
    "    (\"b\", \"curve_remain_time\"),\n",
    "    (\"b\", \"_21\"),\n",
    "    (\"b\", \"_22\"),\n",
    "    (\"b\", \"_23\"),\n",
    "    (\"b\", \"warn_code\"),\n",
    "    (\"b\", \"_25\"),\n",
    "    (\"b\", \"_26\"),\n",
    "    (\"b\", \"_27\"),\n",
    "    (\"h\", \"probe1_target\"),\n",
    "    (\"b\", \"grill_state\"), # 30\n",
    "    (\"b\", \"grill_mode\"),\n",
    "    (\"b\", \"fire_state\"),\n",
    "    (\"b\", \"fire_state_pct\"),\n",
    "    (\"b\", \"_34\"),\n",
    "    (\"b\", \"_35\"),\n",
    "]"
   ]
  },
  {
   "cell_type": "code",
   "execution_count": 27,
   "id": "701867b8",
   "metadata": {},
   "outputs": [],
   "source": [
    "def specunpack(spec, buf, byte_order=\"\"):\n",
    "    \"\"\"\n",
    "    Given a 'spec' for a structure which is a sequence of tuple pairs, each\n",
    "    consisting of a struct format character and a 'name'. On unpacking 'buf',\n",
    "    the names are used in the returned dictionary.\n",
    "\n",
    "    Pad characters ('x') are ignored; the name in those pairs is irrelevant.\n",
    "    \"\"\"\n",
    "    format_ = [byte_order]\n",
    "    names = set()\n",
    "    for part, name in spec:\n",
    "        format_.append(part)\n",
    "        if \"x\" in part:\n",
    "            continue\n",
    "        if name in names:\n",
    "            raise ValueError(f\"duplicate names: {name}\")\n",
    "        names.add(name)\n",
    "    unpacked = struct.unpack(\"\".join(format_), buf)\n",
    "    output = {}\n",
    "    for name, data in zip((name for part, name in spec if \"x\" not in part), unpacked):\n",
    "        output[name] = data\n",
    "    return output"
   ]
  },
  {
   "cell_type": "code",
   "execution_count": 66,
   "id": "e9116729",
   "metadata": {},
   "outputs": [
    {
     "data": {
      "text/plain": [
       "{'grill_temp': 18,\n",
       " 'probe1_temp': 601,\n",
       " 'grill_target': 150,\n",
       " 'probe2_temp': 22,\n",
       " 'probe2_target': 0,\n",
       " 'curve_remain_time': -1,\n",
       " 'warn_code': 0,\n",
       " 'probe1_target': 0,\n",
       " 'grill_state': 0,\n",
       " 'grill_mode': 0,\n",
       " 'fire_state': 1,\n",
       " 'fire_state_pct': 0}"
      ]
     },
     "execution_count": 66,
     "metadata": {},
     "output_type": "execute_result"
    }
   ],
   "source": [
    "specunpack(spec, info_data, byte_order=\"<\")"
   ]
  },
  {
   "cell_type": "markdown",
   "id": "8a73e415",
   "metadata": {},
   "source": [
    "# Reverse Engineering Fields"
   ]
  },
  {
   "cell_type": "code",
   "execution_count": 30,
   "id": "da1fe118",
   "metadata": {},
   "outputs": [],
   "source": [
    "import datetime"
   ]
  },
  {
   "cell_type": "markdown",
   "id": "2f44792f",
   "metadata": {},
   "source": [
    "Nothing plugged in to probes, grill off"
   ]
  },
  {
   "cell_type": "code",
   "execution_count": 216,
   "id": "55603f3d",
   "metadata": {},
   "outputs": [
    {
     "name": "stdout",
     "output_type": "stream",
     "text": [
      "2022-02-09T00:22:43.839540\n",
      "\n",
      "00000000: 5552 2500 5902 9600 050a 1432 1919 1919  UR%.Y......2....\n",
      "00000010: 5902 0000 ffff ffff 0000 0000 0000 0000  Y...............\n",
      "00000020: 0100 0003                                ....\n",
      "\n"
     ]
    },
    {
     "data": {
      "text/plain": [
       "{'grill_temp': 37,\n",
       " 'food_temp': 601,\n",
       " 'grill_target': 150,\n",
       " 'curve_remain_time': -1,\n",
       " 'warn_code': 0,\n",
       " 'food_target': 0,\n",
       " 'grill_state': 0,\n",
       " 'grill_mode': 0,\n",
       " 'fire_state': 1,\n",
       " 'fire_state_pct': 0}"
      ]
     },
     "execution_count": 216,
     "metadata": {},
     "output_type": "execute_result"
    }
   ],
   "source": [
    "print(datetime.datetime.utcnow().isoformat())\n",
    "print()\n",
    "data = send_command(INFO, mac_to_ip[gmg_mac])\n",
    "xxd(data)\n",
    "docunpack(spec, data)"
   ]
  },
  {
   "cell_type": "markdown",
   "id": "3bde1b2f",
   "metadata": {},
   "source": [
    "Probe 1 plugged in"
   ]
  },
  {
   "cell_type": "code",
   "execution_count": 218,
   "id": "19ba709c",
   "metadata": {},
   "outputs": [
    {
     "name": "stdout",
     "output_type": "stream",
     "text": [
      "2022-02-09T00:24:16.204785\n",
      "\n",
      "00000000: 5552 2500 3d00 9600 050a 1432 1919 1919  UR%.=......2....\n",
      "00000010: 5902 0000 ffff ffff 0000 0000 0000 0000  Y...............\n",
      "00000020: 0100 0003                                ....\n",
      "\n"
     ]
    },
    {
     "data": {
      "text/plain": [
       "{'grill_temp': 37,\n",
       " 'food_temp': 61,\n",
       " 'grill_target': 150,\n",
       " 'curve_remain_time': -1,\n",
       " 'warn_code': 0,\n",
       " 'food_target': 0,\n",
       " 'grill_state': 0,\n",
       " 'grill_mode': 0,\n",
       " 'fire_state': 1,\n",
       " 'fire_state_pct': 0}"
      ]
     },
     "execution_count": 218,
     "metadata": {},
     "output_type": "execute_result"
    }
   ],
   "source": [
    "print(datetime.datetime.utcnow().isoformat())\n",
    "print()\n",
    "data = send_command(INFO, mac_to_ip[gmg_mac])\n",
    "xxd(data)\n",
    "docunpack(spec, data)"
   ]
  },
  {
   "cell_type": "markdown",
   "id": "da532bea",
   "metadata": {},
   "source": [
    "Probe 1 unplugged, probe 2 plugged in"
   ]
  },
  {
   "cell_type": "code",
   "execution_count": 225,
   "id": "3245737d",
   "metadata": {},
   "outputs": [
    {
     "name": "stdout",
     "output_type": "stream",
     "text": [
      "2022-02-09T00:27:52.654772\n",
      "\n",
      "00000000: 5552 2500 5902 9600 050a 1432 1919 1919  UR%.Y......2....\n",
      "00000010: 2400 0000 ffff ffff 0000 0000 0000 0000  $...............\n",
      "00000020: 0100 0003                                ....\n",
      "\n"
     ]
    },
    {
     "data": {
      "text/plain": [
       "{'grill_temp': 37,\n",
       " 'probe1_temp': 601,\n",
       " 'grill_target': 150,\n",
       " 'probe2_temp': 36,\n",
       " 'curve_remain_time': -1,\n",
       " 'warn_code': 0,\n",
       " 'probe1_target': 0,\n",
       " 'grill_state': 0,\n",
       " 'grill_mode': 0,\n",
       " 'fire_state': 1,\n",
       " 'fire_state_pct': 0}"
      ]
     },
     "execution_count": 225,
     "metadata": {},
     "output_type": "execute_result"
    }
   ],
   "source": [
    "print(datetime.datetime.utcnow().isoformat())\n",
    "print()\n",
    "data = send_command(INFO, mac_to_ip[gmg_mac])\n",
    "xxd(data)\n",
    "docunpack(spec, data)"
   ]
  },
  {
   "cell_type": "markdown",
   "id": "c6da849b",
   "metadata": {},
   "source": [
    "Another day... grill off, probe plugged in to #2"
   ]
  },
  {
   "cell_type": "code",
   "execution_count": 32,
   "id": "f5630f5c",
   "metadata": {},
   "outputs": [
    {
     "name": "stdout",
     "output_type": "stream",
     "text": [
      "2022-02-14T15:36:07.401382\n",
      "\n",
      "00000000: 5552 1200 5902 9600 050a 1432 1919 1919  UR..Y......2....\n",
      "00000010: 1600 0000 ffff ffff 0000 0000 0000 0000  ................\n",
      "00000020: 0100 0003                                ....\n",
      "\n"
     ]
    },
    {
     "data": {
      "text/plain": [
       "{'grill_temp': 18,\n",
       " 'probe1_temp': 601,\n",
       " 'grill_target': 150,\n",
       " 'probe2_temp': 22,\n",
       " 'curve_remain_time': -1,\n",
       " 'warn_code': 0,\n",
       " 'probe1_target': 0,\n",
       " 'grill_state': 0,\n",
       " 'grill_mode': 0,\n",
       " 'fire_state': 1,\n",
       " 'fire_state_pct': 0}"
      ]
     },
     "execution_count": 32,
     "metadata": {},
     "output_type": "execute_result"
    }
   ],
   "source": [
    "print(datetime.datetime.utcnow().isoformat())\n",
    "print()\n",
    "data = send_command(INFO, mac_to_ip[gmg_mac])\n",
    "xxd(data)\n",
    "specunpack(spec, data)"
   ]
  },
  {
   "cell_type": "markdown",
   "id": "b3e0e5fc",
   "metadata": {},
   "source": [
    "Connecting app to grill"
   ]
  },
  {
   "cell_type": "code",
   "execution_count": 33,
   "id": "c0d591fc",
   "metadata": {},
   "outputs": [
    {
     "name": "stdout",
     "output_type": "stream",
     "text": [
      "2022-02-14T15:36:50.731017\n",
      "\n",
      "00000000: 5552 1200 5902 9600 050a 1432 1919 1919  UR..Y......2....\n",
      "00000010: 1600 0000 ffff ffff 0000 0000 0000 0000  ................\n",
      "00000020: 0100 0003                                ....\n",
      "\n"
     ]
    },
    {
     "data": {
      "text/plain": [
       "{'grill_temp': 18,\n",
       " 'probe1_temp': 601,\n",
       " 'grill_target': 150,\n",
       " 'probe2_temp': 22,\n",
       " 'curve_remain_time': -1,\n",
       " 'warn_code': 0,\n",
       " 'probe1_target': 0,\n",
       " 'grill_state': 0,\n",
       " 'grill_mode': 0,\n",
       " 'fire_state': 1,\n",
       " 'fire_state_pct': 0}"
      ]
     },
     "execution_count": 33,
     "metadata": {},
     "output_type": "execute_result"
    }
   ],
   "source": [
    "print(datetime.datetime.utcnow().isoformat())\n",
    "print()\n",
    "data = send_command(INFO, mac_to_ip[gmg_mac])\n",
    "xxd(data)\n",
    "specunpack(spec, data)"
   ]
  },
  {
   "cell_type": "markdown",
   "id": "a97ba5ec",
   "metadata": {},
   "source": [
    "Grill on (shows \"1\" on display)"
   ]
  },
  {
   "cell_type": "code",
   "execution_count": 34,
   "id": "2243fd4b",
   "metadata": {},
   "outputs": [
    {
     "name": "stdout",
     "output_type": "stream",
     "text": [
      "2022-02-14T15:37:14.304276\n",
      "\n",
      "00000000: 5552 1300 5902 9600 050a 1432 1919 1919  UR..Y......2....\n",
      "00000010: 1600 0000 ffff ffff 0000 0000 0000 0100  ................\n",
      "00000020: 0219 0003                                ....\n",
      "\n"
     ]
    },
    {
     "data": {
      "text/plain": [
       "{'grill_temp': 19,\n",
       " 'probe1_temp': 601,\n",
       " 'grill_target': 150,\n",
       " 'probe2_temp': 22,\n",
       " 'curve_remain_time': -1,\n",
       " 'warn_code': 0,\n",
       " 'probe1_target': 0,\n",
       " 'grill_state': 1,\n",
       " 'grill_mode': 0,\n",
       " 'fire_state': 2,\n",
       " 'fire_state_pct': 25}"
      ]
     },
     "execution_count": 34,
     "metadata": {},
     "output_type": "execute_result"
    }
   ],
   "source": [
    "print(datetime.datetime.utcnow().isoformat())\n",
    "print()\n",
    "data = send_command(INFO, mac_to_ip[gmg_mac])\n",
    "xxd(data)\n",
    "specunpack(spec, data)"
   ]
  },
  {
   "cell_type": "code",
   "execution_count": 35,
   "id": "b274905d",
   "metadata": {},
   "outputs": [
    {
     "name": "stdout",
     "output_type": "stream",
     "text": [
      "2022-02-14T15:37:26.009419\n",
      "\n",
      "00000000: 5552 1300 5902 9600 050a 1432 1919 1919  UR..Y......2....\n",
      "00000010: 1500 0000 ffff ffff 0000 0000 0000 0100  ................\n",
      "00000020: 0219 0003                                ....\n",
      "\n"
     ]
    },
    {
     "data": {
      "text/plain": [
       "{'grill_temp': 19,\n",
       " 'probe1_temp': 601,\n",
       " 'grill_target': 150,\n",
       " 'probe2_temp': 21,\n",
       " 'curve_remain_time': -1,\n",
       " 'warn_code': 0,\n",
       " 'probe1_target': 0,\n",
       " 'grill_state': 1,\n",
       " 'grill_mode': 0,\n",
       " 'fire_state': 2,\n",
       " 'fire_state_pct': 25}"
      ]
     },
     "execution_count": 35,
     "metadata": {},
     "output_type": "execute_result"
    }
   ],
   "source": [
    "print(datetime.datetime.utcnow().isoformat())\n",
    "print()\n",
    "data = send_command(INFO, mac_to_ip[gmg_mac])\n",
    "xxd(data)\n",
    "specunpack(spec, data)"
   ]
  },
  {
   "cell_type": "code",
   "execution_count": 46,
   "id": "1d0a7b58",
   "metadata": {},
   "outputs": [
    {
     "name": "stdout",
     "output_type": "stream",
     "text": [
      "2022-02-14T15:38:44.247647\n",
      "\n",
      "00000000: 5552 1300 5902 9600 050a 1432 1919 1919  UR..Y......2....\n",
      "00000010: 1500 0000 ffff ffff 0000 0000 0000 0100  ................\n",
      "00000020: 0219 0003                                ....\n",
      "\n"
     ]
    },
    {
     "data": {
      "text/plain": [
       "{'grill_temp': 19,\n",
       " 'probe1_temp': 601,\n",
       " 'grill_target': 150,\n",
       " 'probe2_temp': 21,\n",
       " 'curve_remain_time': -1,\n",
       " 'warn_code': 0,\n",
       " 'probe1_target': 0,\n",
       " 'grill_state': 1,\n",
       " 'grill_mode': 0,\n",
       " 'fire_state': 2,\n",
       " 'fire_state_pct': 25}"
      ]
     },
     "execution_count": 46,
     "metadata": {},
     "output_type": "execute_result"
    }
   ],
   "source": [
    "print(datetime.datetime.utcnow().isoformat())\n",
    "print()\n",
    "data = send_command(INFO, mac_to_ip[gmg_mac])\n",
    "xxd(data)\n",
    "specunpack(spec, data)"
   ]
  },
  {
   "cell_type": "markdown",
   "id": "15f1387f",
   "metadata": {},
   "source": [
    "After showing \"2\" on display"
   ]
  },
  {
   "cell_type": "code",
   "execution_count": 49,
   "id": "7a804d17",
   "metadata": {},
   "outputs": [
    {
     "name": "stdout",
     "output_type": "stream",
     "text": [
      "2022-02-14T15:39:50.258786\n",
      "\n",
      "00000000: 5552 1300 5902 9600 050a 1432 1919 1919  UR..Y......2....\n",
      "00000010: 1500 0000 ffff ffff 0000 0000 0000 0100  ................\n",
      "00000020: 0219 0003                                ....\n",
      "\n"
     ]
    },
    {
     "data": {
      "text/plain": [
       "{'grill_temp': 19,\n",
       " 'probe1_temp': 601,\n",
       " 'grill_target': 150,\n",
       " 'probe2_temp': 21,\n",
       " 'curve_remain_time': -1,\n",
       " 'warn_code': 0,\n",
       " 'probe1_target': 0,\n",
       " 'grill_state': 1,\n",
       " 'grill_mode': 0,\n",
       " 'fire_state': 2,\n",
       " 'fire_state_pct': 25}"
      ]
     },
     "execution_count": 49,
     "metadata": {},
     "output_type": "execute_result"
    }
   ],
   "source": [
    "print(datetime.datetime.utcnow().isoformat())\n",
    "print()\n",
    "data = send_command(INFO, mac_to_ip[gmg_mac])\n",
    "xxd(data)\n",
    "specunpack(spec, data)"
   ]
  },
  {
   "cell_type": "markdown",
   "id": "af043d56",
   "metadata": {},
   "source": [
    "Setting food temp 1 to 111, food temp 2 to 222"
   ]
  },
  {
   "cell_type": "code",
   "execution_count": 64,
   "id": "e95b3f3c",
   "metadata": {},
   "outputs": [
    {
     "data": {
      "text/plain": [
       "('0x6f', '0xde')"
      ]
     },
     "execution_count": 64,
     "metadata": {},
     "output_type": "execute_result"
    }
   ],
   "source": [
    "hex(111), hex(222)"
   ]
  },
  {
   "cell_type": "code",
   "execution_count": 51,
   "id": "67effc22",
   "metadata": {},
   "outputs": [
    {
     "name": "stdout",
     "output_type": "stream",
     "text": [
      "2022-02-14T15:40:32.447959\n",
      "\n",
      "00000000: 5552 1500 5902 9600 050a 1432 1919 1919  UR..Y......2....\n",
      "00000010: 1700 de00 ffff ffff 0000 0000 6f00 0100  ............o...\n",
      "00000020: 0219 0003                                ....\n",
      "\n"
     ]
    },
    {
     "data": {
      "text/plain": [
       "{'grill_temp': 21,\n",
       " 'probe1_temp': 601,\n",
       " 'grill_target': 150,\n",
       " 'probe2_temp': 23,\n",
       " 'curve_remain_time': -1,\n",
       " 'warn_code': 0,\n",
       " 'probe1_target': 111,\n",
       " 'grill_state': 1,\n",
       " 'grill_mode': 0,\n",
       " 'fire_state': 2,\n",
       " 'fire_state_pct': 25}"
      ]
     },
     "execution_count": 51,
     "metadata": {},
     "output_type": "execute_result"
    }
   ],
   "source": [
    "print(datetime.datetime.utcnow().isoformat())\n",
    "print()\n",
    "data = send_command(INFO, mac_to_ip[gmg_mac])\n",
    "xxd(data)\n",
    "specunpack(spec, data)"
   ]
  },
  {
   "cell_type": "markdown",
   "id": "d6cf56ed",
   "metadata": {},
   "source": [
    "Turning on Pizza mode"
   ]
  },
  {
   "cell_type": "code",
   "execution_count": 53,
   "id": "d4f367a3",
   "metadata": {},
   "outputs": [
    {
     "name": "stdout",
     "output_type": "stream",
     "text": [
      "2022-02-14T15:41:56.134064\n",
      "\n",
      "00000000: 5552 2200 5902 9600 052a 1432 1919 1919  UR\".Y....*.2....\n",
      "00000010: 2a00 de00 ffff ffff 0000 0000 6f00 0100  *...........o...\n",
      "00000020: 0232 0003                                .2..\n",
      "\n"
     ]
    },
    {
     "data": {
      "text/plain": [
       "{'grill_temp': 34,\n",
       " 'probe1_temp': 601,\n",
       " 'grill_target': 150,\n",
       " 'probe2_temp': 42,\n",
       " 'curve_remain_time': -1,\n",
       " 'warn_code': 0,\n",
       " 'probe1_target': 111,\n",
       " 'grill_state': 1,\n",
       " 'grill_mode': 0,\n",
       " 'fire_state': 2,\n",
       " 'fire_state_pct': 50}"
      ]
     },
     "execution_count": 53,
     "metadata": {},
     "output_type": "execute_result"
    }
   ],
   "source": [
    "print(datetime.datetime.utcnow().isoformat())\n",
    "print()\n",
    "data = send_command(INFO, mac_to_ip[gmg_mac])\n",
    "xxd(data)\n",
    "specunpack(spec, data)"
   ]
  },
  {
   "cell_type": "markdown",
   "id": "102279ad",
   "metadata": {},
   "source": [
    "Pizza mode off (grill also says it's on now, reporting temp on front panel)"
   ]
  },
  {
   "cell_type": "code",
   "execution_count": 54,
   "id": "3f558680",
   "metadata": {},
   "outputs": [
    {
     "name": "stdout",
     "output_type": "stream",
     "text": [
      "2022-02-14T15:42:09.115424\n",
      "\n",
      "00000000: 5552 2300 5902 9600 050a 1432 1919 1919  UR#.Y......2....\n",
      "00000010: 2f00 de00 ffff ffff 0000 0000 6f00 0100  /...........o...\n",
      "00000020: 0232 0003                                .2..\n",
      "\n"
     ]
    },
    {
     "data": {
      "text/plain": [
       "{'grill_temp': 35,\n",
       " 'probe1_temp': 601,\n",
       " 'grill_target': 150,\n",
       " 'probe2_temp': 47,\n",
       " 'curve_remain_time': -1,\n",
       " 'warn_code': 0,\n",
       " 'probe1_target': 111,\n",
       " 'grill_state': 1,\n",
       " 'grill_mode': 0,\n",
       " 'fire_state': 2,\n",
       " 'fire_state_pct': 50}"
      ]
     },
     "execution_count": 54,
     "metadata": {},
     "output_type": "execute_result"
    }
   ],
   "source": [
    "print(datetime.datetime.utcnow().isoformat())\n",
    "print()\n",
    "data = send_command(INFO, mac_to_ip[gmg_mac])\n",
    "xxd(data)\n",
    "specunpack(spec, data)"
   ]
  },
  {
   "cell_type": "markdown",
   "id": "e76c4392",
   "metadata": {},
   "source": [
    "Climate setting = \"Cold\" (was average)"
   ]
  },
  {
   "cell_type": "code",
   "execution_count": 55,
   "id": "75d68002",
   "metadata": {},
   "outputs": [
    {
     "name": "stdout",
     "output_type": "stream",
     "text": [
      "2022-02-14T15:43:33.576489\n",
      "\n",
      "00000000: 5552 3400 5902 9600 0506 1432 1919 1919  UR4.Y......2....\n",
      "00000010: 4600 de00 ffff ffff 0000 0000 6f00 0100  F...........o...\n",
      "00000020: 0232 0003                                .2..\n",
      "\n"
     ]
    },
    {
     "data": {
      "text/plain": [
       "{'grill_temp': 52,\n",
       " 'probe1_temp': 601,\n",
       " 'grill_target': 150,\n",
       " 'probe2_temp': 70,\n",
       " 'curve_remain_time': -1,\n",
       " 'warn_code': 0,\n",
       " 'probe1_target': 111,\n",
       " 'grill_state': 1,\n",
       " 'grill_mode': 0,\n",
       " 'fire_state': 2,\n",
       " 'fire_state_pct': 50}"
      ]
     },
     "execution_count": 55,
     "metadata": {},
     "output_type": "execute_result"
    }
   ],
   "source": [
    "print(datetime.datetime.utcnow().isoformat())\n",
    "print()\n",
    "data = send_command(INFO, mac_to_ip[gmg_mac])\n",
    "xxd(data)\n",
    "specunpack(spec, data)"
   ]
  },
  {
   "cell_type": "markdown",
   "id": "9419e46e",
   "metadata": {},
   "source": [
    "Climate setting = \"Cold\" (was average)"
   ]
  },
  {
   "cell_type": "code",
   "execution_count": 55,
   "id": "b844a1a6",
   "metadata": {},
   "outputs": [
    {
     "name": "stdout",
     "output_type": "stream",
     "text": [
      "2022-02-14T15:43:33.576489\n",
      "\n",
      "00000000: 5552 3400 5902 9600 0506 1432 1919 1919  UR4.Y......2....\n",
      "00000010: 4600 de00 ffff ffff 0000 0000 6f00 0100  F...........o...\n",
      "00000020: 0232 0003                                .2..\n",
      "\n"
     ]
    },
    {
     "data": {
      "text/plain": [
       "{'grill_temp': 52,\n",
       " 'probe1_temp': 601,\n",
       " 'grill_target': 150,\n",
       " 'probe2_temp': 70,\n",
       " 'curve_remain_time': -1,\n",
       " 'warn_code': 0,\n",
       " 'probe1_target': 111,\n",
       " 'grill_state': 1,\n",
       " 'grill_mode': 0,\n",
       " 'fire_state': 2,\n",
       " 'fire_state_pct': 50}"
      ]
     },
     "execution_count": 55,
     "metadata": {},
     "output_type": "execute_result"
    }
   ],
   "source": [
    "print(datetime.datetime.utcnow().isoformat())\n",
    "print()\n",
    "data = send_command(INFO, mac_to_ip[gmg_mac])\n",
    "xxd(data)\n",
    "specunpack(spec, data)"
   ]
  },
  {
   "cell_type": "markdown",
   "id": "26045f9c",
   "metadata": {},
   "source": [
    "Climate setting = \"Icy\" (was \"cold\")"
   ]
  },
  {
   "cell_type": "code",
   "execution_count": 56,
   "id": "2526e92c",
   "metadata": {},
   "outputs": [
    {
     "name": "stdout",
     "output_type": "stream",
     "text": [
      "2022-02-14T15:43:58.784060\n",
      "\n",
      "00000000: 5552 3a00 5902 9600 0502 1432 1919 1919  UR:.Y......2....\n",
      "00000010: 5100 de00 ffff ffff 0000 0000 6f00 0100  Q...........o...\n",
      "00000020: 0232 0003                                .2..\n",
      "\n"
     ]
    },
    {
     "data": {
      "text/plain": [
       "{'grill_temp': 58,\n",
       " 'probe1_temp': 601,\n",
       " 'grill_target': 150,\n",
       " 'probe2_temp': 81,\n",
       " 'curve_remain_time': -1,\n",
       " 'warn_code': 0,\n",
       " 'probe1_target': 111,\n",
       " 'grill_state': 1,\n",
       " 'grill_mode': 0,\n",
       " 'fire_state': 2,\n",
       " 'fire_state_pct': 50}"
      ]
     },
     "execution_count": 56,
     "metadata": {},
     "output_type": "execute_result"
    }
   ],
   "source": [
    "print(datetime.datetime.utcnow().isoformat())\n",
    "print()\n",
    "data = send_command(INFO, mac_to_ip[gmg_mac])\n",
    "xxd(data)\n",
    "specunpack(spec, data)"
   ]
  },
  {
   "cell_type": "markdown",
   "id": "e875545a",
   "metadata": {},
   "source": [
    "Climate setting = \"Icy\" (was \"cold\")"
   ]
  },
  {
   "cell_type": "code",
   "execution_count": 56,
   "id": "3d4c8ff5",
   "metadata": {},
   "outputs": [
    {
     "name": "stdout",
     "output_type": "stream",
     "text": [
      "2022-02-14T15:43:58.784060\n",
      "\n",
      "00000000: 5552 3a00 5902 9600 0502 1432 1919 1919  UR:.Y......2....\n",
      "00000010: 5100 de00 ffff ffff 0000 0000 6f00 0100  Q...........o...\n",
      "00000020: 0232 0003                                .2..\n",
      "\n"
     ]
    },
    {
     "data": {
      "text/plain": [
       "{'grill_temp': 58,\n",
       " 'probe1_temp': 601,\n",
       " 'grill_target': 150,\n",
       " 'probe2_temp': 81,\n",
       " 'curve_remain_time': -1,\n",
       " 'warn_code': 0,\n",
       " 'probe1_target': 111,\n",
       " 'grill_state': 1,\n",
       " 'grill_mode': 0,\n",
       " 'fire_state': 2,\n",
       " 'fire_state_pct': 50}"
      ]
     },
     "execution_count": 56,
     "metadata": {},
     "output_type": "execute_result"
    }
   ],
   "source": [
    "print(datetime.datetime.utcnow().isoformat())\n",
    "print()\n",
    "data = send_command(INFO, mac_to_ip[gmg_mac])\n",
    "xxd(data)\n",
    "specunpack(spec, data)"
   ]
  },
  {
   "cell_type": "markdown",
   "id": "3303a92a",
   "metadata": {},
   "source": [
    "Climate setting = \"warm\" (was \"icy\")"
   ]
  },
  {
   "cell_type": "code",
   "execution_count": 57,
   "id": "4b08fd21",
   "metadata": {},
   "outputs": [
    {
     "name": "stdout",
     "output_type": "stream",
     "text": [
      "2022-02-14T15:44:20.314608\n",
      "\n",
      "00000000: 5552 3f00 5902 9600 050e 1432 1919 1919  UR?.Y......2....\n",
      "00000010: 5a00 de00 ffff ffff 0000 0000 6f00 0100  Z...........o...\n",
      "00000020: 0232 0003                                .2..\n",
      "\n"
     ]
    },
    {
     "data": {
      "text/plain": [
       "{'grill_temp': 63,\n",
       " 'probe1_temp': 601,\n",
       " 'grill_target': 150,\n",
       " 'probe2_temp': 90,\n",
       " 'curve_remain_time': -1,\n",
       " 'warn_code': 0,\n",
       " 'probe1_target': 111,\n",
       " 'grill_state': 1,\n",
       " 'grill_mode': 0,\n",
       " 'fire_state': 2,\n",
       " 'fire_state_pct': 50}"
      ]
     },
     "execution_count": 57,
     "metadata": {},
     "output_type": "execute_result"
    }
   ],
   "source": [
    "print(datetime.datetime.utcnow().isoformat())\n",
    "print()\n",
    "data = send_command(INFO, mac_to_ip[gmg_mac])\n",
    "xxd(data)\n",
    "specunpack(spec, data)"
   ]
  },
  {
   "cell_type": "markdown",
   "id": "3e897097",
   "metadata": {},
   "source": [
    "Climate setting = \"warm\" (was \"icy\")"
   ]
  },
  {
   "cell_type": "code",
   "execution_count": 57,
   "id": "15581bcb",
   "metadata": {},
   "outputs": [
    {
     "name": "stdout",
     "output_type": "stream",
     "text": [
      "2022-02-14T15:44:20.314608\n",
      "\n",
      "00000000: 5552 3f00 5902 9600 050e 1432 1919 1919  UR?.Y......2....\n",
      "00000010: 5a00 de00 ffff ffff 0000 0000 6f00 0100  Z...........o...\n",
      "00000020: 0232 0003                                .2..\n",
      "\n"
     ]
    },
    {
     "data": {
      "text/plain": [
       "{'grill_temp': 63,\n",
       " 'probe1_temp': 601,\n",
       " 'grill_target': 150,\n",
       " 'probe2_temp': 90,\n",
       " 'curve_remain_time': -1,\n",
       " 'warn_code': 0,\n",
       " 'probe1_target': 111,\n",
       " 'grill_state': 1,\n",
       " 'grill_mode': 0,\n",
       " 'fire_state': 2,\n",
       " 'fire_state_pct': 50}"
      ]
     },
     "execution_count": 57,
     "metadata": {},
     "output_type": "execute_result"
    }
   ],
   "source": [
    "print(datetime.datetime.utcnow().isoformat())\n",
    "print()\n",
    "data = send_command(INFO, mac_to_ip[gmg_mac])\n",
    "xxd(data)\n",
    "specunpack(spec, data)"
   ]
  },
  {
   "cell_type": "markdown",
   "id": "e1957bc2",
   "metadata": {},
   "source": [
    "Climate setting = \"hot\" (was \"warm\")"
   ]
  },
  {
   "cell_type": "code",
   "execution_count": 58,
   "id": "493fb748",
   "metadata": {},
   "outputs": [
    {
     "name": "stdout",
     "output_type": "stream",
     "text": [
      "2022-02-14T15:44:34.854549\n",
      "\n",
      "00000000: 5552 4200 5902 9600 0512 1432 1919 1919  URB.Y......2....\n",
      "00000010: 5f00 de00 ffff ffff 0000 0000 6f00 0100  _...........o...\n",
      "00000020: 0232 0003                                .2..\n",
      "\n"
     ]
    },
    {
     "data": {
      "text/plain": [
       "{'grill_temp': 66,\n",
       " 'probe1_temp': 601,\n",
       " 'grill_target': 150,\n",
       " 'probe2_temp': 95,\n",
       " 'curve_remain_time': -1,\n",
       " 'warn_code': 0,\n",
       " 'probe1_target': 111,\n",
       " 'grill_state': 1,\n",
       " 'grill_mode': 0,\n",
       " 'fire_state': 2,\n",
       " 'fire_state_pct': 50}"
      ]
     },
     "execution_count": 58,
     "metadata": {},
     "output_type": "execute_result"
    }
   ],
   "source": [
    "print(datetime.datetime.utcnow().isoformat())\n",
    "print()\n",
    "data = send_command(INFO, mac_to_ip[gmg_mac])\n",
    "xxd(data)\n",
    "specunpack(spec, data)"
   ]
  },
  {
   "cell_type": "markdown",
   "id": "6a7fc3a0",
   "metadata": {},
   "source": [
    "Climate setting = \"hot\" (was \"warm\")"
   ]
  },
  {
   "cell_type": "code",
   "execution_count": 58,
   "id": "5fb0b780",
   "metadata": {},
   "outputs": [
    {
     "name": "stdout",
     "output_type": "stream",
     "text": [
      "2022-02-14T15:44:34.854549\n",
      "\n",
      "00000000: 5552 4200 5902 9600 0512 1432 1919 1919  URB.Y......2....\n",
      "00000010: 5f00 de00 ffff ffff 0000 0000 6f00 0100  _...........o...\n",
      "00000020: 0232 0003                                .2..\n",
      "\n"
     ]
    },
    {
     "data": {
      "text/plain": [
       "{'grill_temp': 66,\n",
       " 'probe1_temp': 601,\n",
       " 'grill_target': 150,\n",
       " 'probe2_temp': 95,\n",
       " 'curve_remain_time': -1,\n",
       " 'warn_code': 0,\n",
       " 'probe1_target': 111,\n",
       " 'grill_state': 1,\n",
       " 'grill_mode': 0,\n",
       " 'fire_state': 2,\n",
       " 'fire_state_pct': 50}"
      ]
     },
     "execution_count": 58,
     "metadata": {},
     "output_type": "execute_result"
    }
   ],
   "source": [
    "print(datetime.datetime.utcnow().isoformat())\n",
    "print()\n",
    "data = send_command(INFO, mac_to_ip[gmg_mac])\n",
    "xxd(data)\n",
    "specunpack(spec, data)"
   ]
  },
  {
   "cell_type": "markdown",
   "id": "9e14c05a",
   "metadata": {},
   "source": [
    "Climate setting = \"average\" (was \"hot\")"
   ]
  },
  {
   "cell_type": "code",
   "execution_count": 59,
   "id": "f3b28d06",
   "metadata": {},
   "outputs": [
    {
     "name": "stdout",
     "output_type": "stream",
     "text": [
      "2022-02-14T15:44:48.612005\n",
      "\n",
      "00000000: 5552 4600 5902 9600 050a 1432 1919 1919  URF.Y......2....\n",
      "00000010: 6600 de00 ffff ffff 0000 0000 6f00 0100  f...........o...\n",
      "00000020: 0232 0003                                .2..\n",
      "\n"
     ]
    },
    {
     "data": {
      "text/plain": [
       "{'grill_temp': 70,\n",
       " 'probe1_temp': 601,\n",
       " 'grill_target': 150,\n",
       " 'probe2_temp': 102,\n",
       " 'curve_remain_time': -1,\n",
       " 'warn_code': 0,\n",
       " 'probe1_target': 111,\n",
       " 'grill_state': 1,\n",
       " 'grill_mode': 0,\n",
       " 'fire_state': 2,\n",
       " 'fire_state_pct': 50}"
      ]
     },
     "execution_count": 59,
     "metadata": {},
     "output_type": "execute_result"
    }
   ],
   "source": [
    "print(datetime.datetime.utcnow().isoformat())\n",
    "print()\n",
    "data = send_command(INFO, mac_to_ip[gmg_mac])\n",
    "xxd(data)\n",
    "specunpack(spec, data)"
   ]
  },
  {
   "cell_type": "markdown",
   "id": "fca853cb",
   "metadata": {},
   "source": [
    "Grill target temp = 225 (was 150)"
   ]
  },
  {
   "cell_type": "code",
   "execution_count": 61,
   "id": "05cce5d2",
   "metadata": {},
   "outputs": [
    {
     "name": "stdout",
     "output_type": "stream",
     "text": [
      "2022-02-14T15:45:33.589294\n",
      "\n",
      "00000000: 5552 5500 5902 e100 050a 1432 1919 1919  URU.Y......2....\n",
      "00000010: 8000 de00 ffff ffff 0000 0000 6f00 0100  ............o...\n",
      "00000020: 0232 0003                                .2..\n",
      "\n"
     ]
    },
    {
     "data": {
      "text/plain": [
       "{'grill_temp': 85,\n",
       " 'probe1_temp': 601,\n",
       " 'grill_target': 225,\n",
       " 'probe2_temp': 128,\n",
       " 'curve_remain_time': -1,\n",
       " 'warn_code': 0,\n",
       " 'probe1_target': 111,\n",
       " 'grill_state': 1,\n",
       " 'grill_mode': 0,\n",
       " 'fire_state': 2,\n",
       " 'fire_state_pct': 50}"
      ]
     },
     "execution_count": 61,
     "metadata": {},
     "output_type": "execute_result"
    }
   ],
   "source": [
    "print(datetime.datetime.utcnow().isoformat())\n",
    "print()\n",
    "data = send_command(INFO, mac_to_ip[gmg_mac])\n",
    "xxd(data)\n",
    "specunpack(spec, data)"
   ]
  },
  {
   "cell_type": "markdown",
   "id": "e0d20153",
   "metadata": {},
   "source": [
    "Grill off (\"FAN\")"
   ]
  },
  {
   "cell_type": "code",
   "execution_count": 62,
   "id": "76684535",
   "metadata": {},
   "outputs": [
    {
     "name": "stdout",
     "output_type": "stream",
     "text": [
      "2022-02-14T15:47:22.757157\n",
      "\n",
      "00000000: 5552 7400 5902 e100 050a 1432 1919 1919  URt.Y......2....\n",
      "00000010: b100 0000 ffff ffff 0000 0000 0000 0200  ................\n",
      "00000020: 044b 0003                                .K..\n",
      "\n"
     ]
    },
    {
     "data": {
      "text/plain": [
       "{'grill_temp': 116,\n",
       " 'probe1_temp': 601,\n",
       " 'grill_target': 225,\n",
       " 'probe2_temp': 177,\n",
       " 'curve_remain_time': -1,\n",
       " 'warn_code': 0,\n",
       " 'probe1_target': 0,\n",
       " 'grill_state': 2,\n",
       " 'grill_mode': 0,\n",
       " 'fire_state': 4,\n",
       " 'fire_state_pct': 75}"
      ]
     },
     "execution_count": 62,
     "metadata": {},
     "output_type": "execute_result"
    }
   ],
   "source": [
    "print(datetime.datetime.utcnow().isoformat())\n",
    "print()\n",
    "data = send_command(INFO, mac_to_ip[gmg_mac])\n",
    "xxd(data)\n",
    "specunpack(spec, data)"
   ]
  },
  {
   "cell_type": "code",
   "execution_count": 63,
   "id": "31dfb3e5",
   "metadata": {},
   "outputs": [
    {
     "name": "stdout",
     "output_type": "stream",
     "text": [
      "2022-02-14T15:48:00.281183\n",
      "\n",
      "00000000: 5552 8000 5902 e100 050a 1432 1919 1919  UR..Y......2....\n",
      "00000010: c400 0000 ffff ffff 0000 0000 0000 0200  ................\n",
      "00000020: 044b 0003                                .K..\n",
      "\n"
     ]
    },
    {
     "data": {
      "text/plain": [
       "{'grill_temp': 128,\n",
       " 'probe1_temp': 601,\n",
       " 'grill_target': 225,\n",
       " 'probe2_temp': 196,\n",
       " 'curve_remain_time': -1,\n",
       " 'warn_code': 0,\n",
       " 'probe1_target': 0,\n",
       " 'grill_state': 2,\n",
       " 'grill_mode': 0,\n",
       " 'fire_state': 4,\n",
       " 'fire_state_pct': 75}"
      ]
     },
     "execution_count": 63,
     "metadata": {},
     "output_type": "execute_result"
    }
   ],
   "source": [
    "print(datetime.datetime.utcnow().isoformat())\n",
    "print()\n",
    "data = send_command(INFO, mac_to_ip[gmg_mac])\n",
    "xxd(data)\n",
    "specunpack(spec, data)"
   ]
  },
  {
   "cell_type": "code",
   "execution_count": 67,
   "id": "f89983d4",
   "metadata": {},
   "outputs": [
    {
     "name": "stdout",
     "output_type": "stream",
     "text": [
      "2022-02-14T15:51:00.335510\n",
      "\n",
      "00000000: 5552 7100 5902 e100 050a 1432 1919 1919  URq.Y......2....\n",
      "00000010: 9600 0000 ffff ffff 0000 0000 0000 0200  ................\n",
      "00000020: 0400 0003                                ....\n",
      "\n"
     ]
    },
    {
     "data": {
      "text/plain": [
       "{'grill_temp': 113,\n",
       " 'probe1_temp': 601,\n",
       " 'grill_target': 225,\n",
       " 'probe2_temp': 150,\n",
       " 'probe2_target': 0,\n",
       " 'curve_remain_time': -1,\n",
       " 'warn_code': 0,\n",
       " 'probe1_target': 0,\n",
       " 'grill_state': 2,\n",
       " 'grill_mode': 0,\n",
       " 'fire_state': 4,\n",
       " 'fire_state_pct': 0}"
      ]
     },
     "execution_count": 67,
     "metadata": {},
     "output_type": "execute_result"
    }
   ],
   "source": [
    "print(datetime.datetime.utcnow().isoformat())\n",
    "print()\n",
    "data = send_command(INFO, mac_to_ip[gmg_mac])\n",
    "xxd(data)\n",
    "specunpack(spec, data)"
   ]
  },
  {
   "cell_type": "markdown",
   "id": "073abe60",
   "metadata": {},
   "source": [
    "Still FAn...  ok, finally oFF"
   ]
  },
  {
   "cell_type": "code",
   "execution_count": 68,
   "id": "852e9f48",
   "metadata": {
    "scrolled": true
   },
   "outputs": [
    {
     "name": "stdout",
     "output_type": "stream",
     "text": [
      "2022-02-14T16:01:10.515943\n",
      "\n",
      "00000000: 5552 4000 5902 9600 050a 1432 1919 1919  UR@.Y......2....\n",
      "00000010: 5200 0000 ffff ffff 0000 0000 0000 0000  R...............\n",
      "00000020: 0100 0003                                ....\n",
      "\n"
     ]
    },
    {
     "data": {
      "text/plain": [
       "{'grill_temp': 64,\n",
       " 'probe1_temp': 601,\n",
       " 'grill_target': 150,\n",
       " 'probe2_temp': 82,\n",
       " 'probe2_target': 0,\n",
       " 'curve_remain_time': -1,\n",
       " 'warn_code': 0,\n",
       " 'probe1_target': 0,\n",
       " 'grill_state': 0,\n",
       " 'grill_mode': 0,\n",
       " 'fire_state': 1,\n",
       " 'fire_state_pct': 0}"
      ]
     },
     "execution_count": 68,
     "metadata": {},
     "output_type": "execute_result"
    }
   ],
   "source": [
    "print(datetime.datetime.utcnow().isoformat())\n",
    "print()\n",
    "data = send_command(INFO, mac_to_ip[gmg_mac])\n",
    "xxd(data)\n",
    "specunpack(spec, data)"
   ]
  },
  {
   "cell_type": "code",
   "execution_count": null,
   "id": "b785e175",
   "metadata": {},
   "outputs": [],
   "source": []
  },
  {
   "cell_type": "markdown",
   "id": "98a34da6",
   "metadata": {},
   "source": [
    "Climate stuff"
   ]
  },
  {
   "cell_type": "code",
   "execution_count": 73,
   "id": "acd09d61",
   "metadata": {},
   "outputs": [],
   "source": [
    "climate_cold =    \"0000   55 43 05 0a 14 32 19 19 19 19 21\"\n",
    "climate_average = \"0000   55 43 05 06 14 32 19 19 19 19 21\"\n",
    "#                         U  C"
   ]
  },
  {
   "cell_type": "code",
   "execution_count": 77,
   "id": "26bb13d6",
   "metadata": {
    "scrolled": false
   },
   "outputs": [
    {
     "name": "stdout",
     "output_type": "stream",
     "text": [
      "2022-02-14T16:36:29.587676\n",
      "\n",
      "00000000: 5552 8e00 5902 9700 0506 1432 1919 1919  UR..Y......2....\n",
      "00000010: be00 de00 ffff ffff 0000 0000 6f00 0100  ............o...\n",
      "00000020: 024b 0003                                .K..\n",
      "\n"
     ]
    },
    {
     "data": {
      "text/plain": [
       "{'grill_temp': 142,\n",
       " 'probe1_temp': 601,\n",
       " 'grill_target': 151,\n",
       " '_08': 5,\n",
       " '_09': 6,\n",
       " '_10': 20,\n",
       " '_11': 50,\n",
       " '_12': 25,\n",
       " '_13': 25,\n",
       " '_14': 25,\n",
       " '_15': 25,\n",
       " 'probe2_temp': 190,\n",
       " 'probe2_target': 222,\n",
       " 'curve_remain_time': -1,\n",
       " '_21': -1,\n",
       " '_22': -1,\n",
       " '_23': -1,\n",
       " 'warn_code': 0,\n",
       " '_25': 0,\n",
       " '_26': 0,\n",
       " '_27': 0,\n",
       " 'probe1_target': 111,\n",
       " 'grill_state': 1,\n",
       " 'grill_mode': 0,\n",
       " 'fire_state': 2,\n",
       " 'fire_state_pct': 75,\n",
       " '_34': 0,\n",
       " '_35': 3}"
      ]
     },
     "execution_count": 77,
     "metadata": {},
     "output_type": "execute_result"
    }
   ],
   "source": [
    "print(datetime.datetime.utcnow().isoformat())\n",
    "print()\n",
    "data = send_command(INFO, mac_to_ip[gmg_mac])\n",
    "xxd(data)\n",
    "specunpack(spec, data)"
   ]
  },
  {
   "cell_type": "markdown",
   "id": "f63e1c82",
   "metadata": {},
   "source": [
    "Low pellet alarm!"
   ]
  },
  {
   "cell_type": "code",
   "execution_count": 80,
   "id": "fa33e30c",
   "metadata": {
    "scrolled": false
   },
   "outputs": [
    {
     "name": "stdout",
     "output_type": "stream",
     "text": [
      "2022-02-14T16:52:37.645295\n",
      "\n",
      "00000000: 5552 dd00 5902 e100 0506 1432 1919 1919  UR..Y......2....\n",
      "00000010: fa00 0000 ffff ffff 8000 0000 6f00 0100  ............o...\n",
      "00000020: 0364 0003                                .d..\n",
      "\n"
     ]
    },
    {
     "data": {
      "text/plain": [
       "{'grill_temp': 221,\n",
       " 'probe1_temp': 601,\n",
       " 'grill_target': 225,\n",
       " '_08': 5,\n",
       " '_09': 6,\n",
       " '_10': 20,\n",
       " '_11': 50,\n",
       " '_12': 25,\n",
       " '_13': 25,\n",
       " '_14': 25,\n",
       " '_15': 25,\n",
       " 'probe2_temp': 250,\n",
       " 'probe2_target': 0,\n",
       " 'curve_remain_time': -1,\n",
       " '_21': -1,\n",
       " '_22': -1,\n",
       " '_23': -1,\n",
       " 'warn_code': -128,\n",
       " '_25': 0,\n",
       " '_26': 0,\n",
       " '_27': 0,\n",
       " 'probe1_target': 111,\n",
       " 'grill_state': 1,\n",
       " 'grill_mode': 0,\n",
       " 'fire_state': 3,\n",
       " 'fire_state_pct': 100,\n",
       " '_34': 0,\n",
       " '_35': 3}"
      ]
     },
     "execution_count": 80,
     "metadata": {},
     "output_type": "execute_result"
    }
   ],
   "source": [
    "print(datetime.datetime.utcnow().isoformat())\n",
    "print()\n",
    "data = send_command(INFO, mac_to_ip[gmg_mac])\n",
    "xxd(data)\n",
    "specunpack(spec, data)"
   ]
  },
  {
   "cell_type": "markdown",
   "id": "5c764a81",
   "metadata": {},
   "source": [
    "added pellets"
   ]
  },
  {
   "cell_type": "code",
   "execution_count": 81,
   "id": "ecbe7824",
   "metadata": {
    "scrolled": false
   },
   "outputs": [
    {
     "name": "stdout",
     "output_type": "stream",
     "text": [
      "2022-02-14T16:54:21.876194\n",
      "\n",
      "00000000: 5552 e700 5902 e100 0506 1432 1919 1919  UR..Y......2....\n",
      "00000010: 4100 0000 ffff ffff 0000 0000 6f00 0100  A...........o...\n",
      "00000020: 0364 0003                                .d..\n",
      "\n"
     ]
    },
    {
     "data": {
      "text/plain": [
       "{'grill_temp': 231,\n",
       " 'probe1_temp': 601,\n",
       " 'grill_target': 225,\n",
       " '_08': 5,\n",
       " '_09': 6,\n",
       " '_10': 20,\n",
       " '_11': 50,\n",
       " '_12': 25,\n",
       " '_13': 25,\n",
       " '_14': 25,\n",
       " '_15': 25,\n",
       " 'probe2_temp': 65,\n",
       " 'probe2_target': 0,\n",
       " 'curve_remain_time': -1,\n",
       " '_21': -1,\n",
       " '_22': -1,\n",
       " '_23': -1,\n",
       " 'warn_code': 0,\n",
       " '_25': 0,\n",
       " '_26': 0,\n",
       " '_27': 0,\n",
       " 'probe1_target': 111,\n",
       " 'grill_state': 1,\n",
       " 'grill_mode': 0,\n",
       " 'fire_state': 3,\n",
       " 'fire_state_pct': 100,\n",
       " '_34': 0,\n",
       " '_35': 3}"
      ]
     },
     "execution_count": 81,
     "metadata": {},
     "output_type": "execute_result"
    }
   ],
   "source": [
    "print(datetime.datetime.utcnow().isoformat())\n",
    "print()\n",
    "data = send_command(INFO, mac_to_ip[gmg_mac])\n",
    "xxd(data)\n",
    "specunpack(spec, data)"
   ]
  },
  {
   "cell_type": "code",
   "execution_count": null,
   "id": "44b11e05",
   "metadata": {},
   "outputs": [],
   "source": []
  }
 ],
 "metadata": {
  "kernelspec": {
   "display_name": "Global 3.8",
   "language": "python",
   "name": "global3"
  },
  "language_info": {
   "codemirror_mode": {
    "name": "ipython",
    "version": 3
   },
   "file_extension": ".py",
   "mimetype": "text/x-python",
   "name": "python",
   "nbconvert_exporter": "python",
   "pygments_lexer": "ipython3",
   "version": "3.8.10"
  }
 },
 "nbformat": 4,
 "nbformat_minor": 5
}
