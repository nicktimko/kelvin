{
 "cells": [
  {
   "cell_type": "code",
   "execution_count": 16,
   "id": "aeb000d3",
   "metadata": {},
   "outputs": [],
   "source": [
    "import socket\n",
    "import struct\n"
   ]
  },
  {
   "cell_type": "markdown",
   "id": "c2831abf",
   "metadata": {},
   "source": [
    "# API"
   ]
  },
  {
   "cell_type": "code",
   "execution_count": 2,
   "id": "ee9ba711",
   "metadata": {},
   "outputs": [
    {
     "data": {
      "text/plain": [
       "'!'"
      ]
     },
     "execution_count": 2,
     "metadata": {},
     "output_type": "execute_result"
    }
   ],
   "source": [
    "chr(33)"
   ]
  },
  {
   "cell_type": "code",
   "execution_count": 6,
   "id": "477573eb",
   "metadata": {},
   "outputs": [],
   "source": [
    "requests = {\n",
    "    \"get_info\": b\"UR001!\",\n",
    "    \"set_grill_temp\": b\"UR{temp}!\"\n",
    "}"
   ]
  },
  {
   "cell_type": "code",
   "execution_count": 11,
   "id": "6cb2b44d",
   "metadata": {},
   "outputs": [],
   "source": [
    "def grill_info():\n",
    "    return b\"UR001!\"\n",
    "\n",
    "def set_grill_temp(temp_f):\n",
    "    if not (150 <= temp_f <= 450):\n",
    "        raise ValueError(\"invalid temperature\")\n",
    "    return b\"UT???!\".replace(b\"???\", format(temp_f, \"03d\").encode(\"ascii\"))\n",
    "\n",
    "def set_probe_temp(temp_f):\n",
    "    if not (50 <= temp_f <= 220):\n",
    "        raise ValueError(\"invalid temperature\")\n",
    "    return b\"UF{}!\"\n",
    "\n",
    "def power_on():\n",
    "    return b\"UK001!\"\n",
    "\n",
    "def power_off():\n",
    "    return b\"UK004!\"\n",
    "\n",
    "def get_id():\n",
    "    return b\"UL!\"\n",
    "\n",
    "def get_firmware_version():\n",
    "    return b\"UN!\"\n",
    "\n",
    "def broadcast():\n",
    "    return \"UH{}{}{}{}{}!\".format(0, len(ssid), ssid, len(password), password)"
   ]
  },
  {
   "cell_type": "code",
   "execution_count": 15,
   "id": "efcfccf0",
   "metadata": {},
   "outputs": [
    {
     "data": {
      "text/plain": [
       "b'UT000!'"
      ]
     },
     "execution_count": 15,
     "metadata": {},
     "output_type": "execute_result"
    }
   ],
   "source": [
    "set_grill_temp(0)"
   ]
  },
  {
   "cell_type": "code",
   "execution_count": 18,
   "id": "82aad660",
   "metadata": {},
   "outputs": [],
   "source": [
    "sock = socket.socket(family=socket.AF_INET, type=socket.SOCK_STREAM)"
   ]
  },
  {
   "cell_type": "code",
   "execution_count": null,
   "id": "e8cb3668",
   "metadata": {},
   "outputs": [],
   "source": []
  },
  {
   "cell_type": "code",
   "execution_count": null,
   "id": "60ec1dd4",
   "metadata": {},
   "outputs": [],
   "source": [
    "sock.connect(\"\")"
   ]
  }
 ],
 "metadata": {
  "kernelspec": {
   "display_name": "Global 3.8",
   "language": "python",
   "name": "global3"
  },
  "language_info": {
   "codemirror_mode": {
    "name": "ipython",
    "version": 3
   },
   "file_extension": ".py",
   "mimetype": "text/x-python",
   "name": "python",
   "nbconvert_exporter": "python",
   "pygments_lexer": "ipython3",
   "version": "3.8.10"
  }
 },
 "nbformat": 4,
 "nbformat_minor": 5
}
