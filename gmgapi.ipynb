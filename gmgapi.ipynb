{
 "cells": [
  {
   "cell_type": "code",
   "execution_count": 1,
   "id": "aeb000d3",
   "metadata": {},
   "outputs": [],
   "source": [
    "import socket\n",
    "import struct"
   ]
  },
  {
   "cell_type": "markdown",
   "id": "c2831abf",
   "metadata": {},
   "source": [
    "# API"
   ]
  },
  {
   "cell_type": "code",
   "execution_count": 2,
   "id": "6cb2b44d",
   "metadata": {},
   "outputs": [],
   "source": [
    "INFO = b\"UR001!\"\n",
    "ID = b\"UL!\"\n",
    "FIRMWARE = b\"UN!\"\n",
    "POWER_ON = b\"UK001!\"\n",
    "POWER_OFF = b\"UK004!\"\n",
    "\n",
    "def set_grill_temp(temp_f):\n",
    "    if not (150 <= temp_f <= 450):\n",
    "        raise ValueError(\"invalid temperature\")\n",
    "    return b\"UT???!\".replace(b\"???\", format(temp_f, \"03d\").encode(\"ascii\"))\n",
    "\n",
    "def set_probe_temp(temp_f):\n",
    "    if not (50 <= temp_f <= 220):\n",
    "        raise ValueError(\"invalid temperature\")\n",
    "    return b\"UF{}!\"\n",
    "\n",
    "def broadcast():\n",
    "    return \"UH{}{}{}{}{}!\".format(0, len(ssid), ssid, len(password), password)"
   ]
  },
  {
   "cell_type": "code",
   "execution_count": 4,
   "id": "efcfccf0",
   "metadata": {},
   "outputs": [
    {
     "data": {
      "text/plain": [
       "b'UT234!'"
      ]
     },
     "execution_count": 4,
     "metadata": {},
     "output_type": "execute_result"
    }
   ],
   "source": [
    "set_grill_temp(234)"
   ]
  },
  {
   "cell_type": "code",
   "execution_count": 5,
   "id": "8a91f64e",
   "metadata": {},
   "outputs": [],
   "source": [
    "import base64\n",
    "import fcntl\n",
    "import ipaddress\n",
    "import socket\n",
    "import subprocess"
   ]
  },
  {
   "cell_type": "code",
   "execution_count": 7,
   "id": "0828c2b9",
   "metadata": {},
   "outputs": [
    {
     "data": {
      "text/plain": [
       "[(1, 'lo'),\n",
       " (2, 'wwan0'),\n",
       " (3, 'wlp58s0'),\n",
       " (4, 'br-73fb78ea0798'),\n",
       " (5, 'br-8df54316e2a9'),\n",
       " (6, 'docker0'),\n",
       " (7, 'br-63aed09d3259'),\n",
       " (104, 'tailscale0'),\n",
       " (112, 'veth1825448'),\n",
       " (182, 'vetha38fb45'),\n",
       " (193, 'anbox0')]"
      ]
     },
     "execution_count": 7,
     "metadata": {},
     "output_type": "execute_result"
    }
   ],
   "source": [
    "socket.if_nameindex()"
   ]
  },
  {
   "cell_type": "code",
   "execution_count": 8,
   "id": "a096ff28",
   "metadata": {},
   "outputs": [
    {
     "data": {
      "text/plain": [
       "'255.255.255.0'"
      ]
     },
     "execution_count": 8,
     "metadata": {},
     "output_type": "execute_result"
    }
   ],
   "source": [
    "iface = \"wlp58s0\"\n",
    "socket.inet_ntoa(\n",
    "    fcntl.ioctl(\n",
    "        socket.socket(socket.AF_INET, socket.SOCK_DGRAM),\n",
    "        35099,\n",
    "        struct.pack('256s', iface.encode(\"ascii\"))\n",
    "    )[20:24]\n",
    ")"
   ]
  },
  {
   "cell_type": "code",
   "execution_count": 9,
   "id": "f406c11c",
   "metadata": {},
   "outputs": [],
   "source": [
    "class MAC:\n",
    "    \"\"\"MAC or MAC Prefix\"\"\"\n",
    "    def __init__(self, address):\n",
    "        self.raw = base64.b16decode(address.replace(\":\", \"\"), casefold=True)\n",
    "\n",
    "    def __repr__(self):\n",
    "        return f\"{self.__class__.__name__}(address='{self}')\"\n",
    "\n",
    "    def __str__(self):\n",
    "        return \":\".join(hex(b)[2:] for b in self.raw)\n",
    "    \n",
    "    def __contains__(self, other):\n",
    "        \"\"\"Does this MAC prefix contain the provided MAC?\"\"\"\n",
    "        return other.raw.startswith(self.raw)"
   ]
  },
  {
   "cell_type": "code",
   "execution_count": 10,
   "id": "7a6bf582",
   "metadata": {},
   "outputs": [
    {
     "data": {
      "text/plain": [
       "True"
      ]
     },
     "execution_count": 10,
     "metadata": {},
     "output_type": "execute_result"
    }
   ],
   "source": [
    "x = MAC(\"7C:a7\")\n",
    "x in MAC(\"7c\")"
   ]
  },
  {
   "cell_type": "code",
   "execution_count": 11,
   "id": "5b4c324c",
   "metadata": {},
   "outputs": [
    {
     "data": {
      "text/plain": [
       "b'|\\xa7\\xb0'"
      ]
     },
     "execution_count": 11,
     "metadata": {},
     "output_type": "execute_result"
    }
   ],
   "source": [
    "base64.b16decode(\"7C:a7:b0\".replace(\":\", \"\"), casefold=True)"
   ]
  },
  {
   "cell_type": "code",
   "execution_count": 14,
   "id": "0bdacd4c",
   "metadata": {},
   "outputs": [],
   "source": [
    "def local_macs(cidr):\n",
    "    network = ipaddress.IPv4Network(cidr)\n",
    "    # attempt connection to everything to populate ARP\n",
    "    subprocess.check_output([\"nmap\", \"-sP\", str(network)])\n",
    "    \n",
    "    # dump ARP table\n",
    "    neighbors = subprocess.check_output([\"ip\", \"neighbor\", \"show\"], universal_newlines=True)\n",
    "    \n",
    "    # and parse output from `ip neigh`\n",
    "    arp_pairs = []\n",
    "    for line in neighbors.splitlines():\n",
    "        ip, _dev, interface, result = line.split(\" \", 3)\n",
    "        result = result.strip()\n",
    "        if \"lladdr\" not in result:\n",
    "            # FAILED, INCOMPLETE, etc.\n",
    "            continue\n",
    "        # REACHABLE, STALE, DELAY, etc.\n",
    "        _lladdr, mac, status = result.split()\n",
    "        arp_pairs.append((ip, mac))\n",
    "\n",
    "    return arp_pairs"
   ]
  },
  {
   "cell_type": "code",
   "execution_count": 15,
   "id": "2793b7ac",
   "metadata": {},
   "outputs": [],
   "source": [
    "macs = local_macs(\"192.168.42.0/24\")"
   ]
  },
  {
   "cell_type": "code",
   "execution_count": 16,
   "id": "93465e2e",
   "metadata": {},
   "outputs": [
    {
     "data": {
      "text/plain": [
       "'192.168.42.245'"
      ]
     },
     "execution_count": 16,
     "metadata": {},
     "output_type": "execute_result"
    }
   ],
   "source": [
    "gmg_mac = \"7c:a7:b0:af:4e:58\"\n",
    "mac_to_ip = {mac: ip for ip, mac in macs}\n",
    "\n",
    "mac_to_ip[gmg_mac]"
   ]
  },
  {
   "cell_type": "code",
   "execution_count": 17,
   "id": "692228d0",
   "metadata": {},
   "outputs": [],
   "source": [
    "def send_command(command: bytes, ip, port=8080):\n",
    "    address = (ip, port)\n",
    "    with socket.socket(family=socket.AF_INET, type=socket.SOCK_DGRAM) as sock:\n",
    "        sock.connect(address)\n",
    "        sock.send(command)\n",
    "        return sock.recv(128)"
   ]
  },
  {
   "cell_type": "code",
   "execution_count": 22,
   "id": "3895e737",
   "metadata": {},
   "outputs": [
    {
     "data": {
      "text/plain": [
       "b'GMG12'"
      ]
     },
     "execution_count": 22,
     "metadata": {},
     "output_type": "execute_result"
    }
   ],
   "source": [
    "send_command(ID, mac_to_ip[gmg_mac])[:5]"
   ]
  },
  {
   "cell_type": "code",
   "execution_count": 23,
   "id": "e31fd2c3",
   "metadata": {},
   "outputs": [
    {
     "data": {
      "text/plain": [
       "b'UNDB0'"
      ]
     },
     "execution_count": 23,
     "metadata": {},
     "output_type": "execute_result"
    }
   ],
   "source": [
    "send_command(FIRMWARE, mac_to_ip[gmg_mac])[:5]"
   ]
  },
  {
   "cell_type": "code",
   "execution_count": 24,
   "id": "303fbdf8",
   "metadata": {},
   "outputs": [
    {
     "data": {
      "text/plain": [
       "b'UR%\\x00Y\\x02\\x96\\x00\\x05\\n\\x142\\x19\\x19\\x19\\x19&\\x00\\x00\\x00\\xff\\xff\\xff\\xff\\x00\\x00\\x00\\x00\\x00\\x00\\x00\\x00\\x01\\x00\\x00\\x03'"
      ]
     },
     "execution_count": 24,
     "metadata": {},
     "output_type": "execute_result"
    }
   ],
   "source": [
    "send_command(INFO, mac_to_ip[gmg_mac])"
   ]
  },
  {
   "cell_type": "code",
   "execution_count": 108,
   "id": "d778909e",
   "metadata": {},
   "outputs": [],
   "source": [
    "import base64\n",
    "import struct"
   ]
  },
  {
   "cell_type": "code",
   "execution_count": 26,
   "id": "f58d8720",
   "metadata": {},
   "outputs": [
    {
     "data": {
      "text/plain": [
       "36"
      ]
     },
     "execution_count": 26,
     "metadata": {},
     "output_type": "execute_result"
    }
   ],
   "source": [
    "info_data = send_command(INFO, mac_to_ip[gmg_mac])\n",
    "len(info_data)"
   ]
  },
  {
   "cell_type": "code",
   "execution_count": 27,
   "id": "1ec445f8",
   "metadata": {},
   "outputs": [
    {
     "data": {
      "text/plain": [
       "b'UR%\\x00Y\\x02\\x96\\x00\\x05\\n\\x142\\x19\\x19\\x19\\x19&\\x00\\x00\\x00\\xff\\xff\\xff\\xff\\x00\\x00\\x00\\x00\\x00\\x00\\x00\\x00\\x01\\x00\\x00\\x03'"
      ]
     },
     "execution_count": 27,
     "metadata": {},
     "output_type": "execute_result"
    }
   ],
   "source": [
    "info_data"
   ]
  },
  {
   "cell_type": "code",
   "execution_count": 28,
   "id": "6f4e0d76",
   "metadata": {
    "scrolled": true
   },
   "outputs": [
    {
     "data": {
      "text/plain": [
       "b'5552250059029600050A14321919191926000000FFFFFFFF000000000000000001000003'"
      ]
     },
     "execution_count": 28,
     "metadata": {},
     "output_type": "execute_result"
    }
   ],
   "source": [
    "base64.b16encode(info_data)"
   ]
  },
  {
   "cell_type": "markdown",
   "id": "be2abff2",
   "metadata": {},
   "source": [
    "# Grill Data Format"
   ]
  },
  {
   "cell_type": "code",
   "execution_count": 33,
   "id": "0bd407a4",
   "metadata": {},
   "outputs": [],
   "source": [
    "spec = [\n",
    "    (\"2x\", \"?\"), # always \"UR\"\n",
    "    (\"h\", \"grill_temp\"),   # 2-3\n",
    "    (\"h\", \"probe1_temp\"),  # 4-5\n",
    "    (\"h\", \"grill_target\"), # 6-7\n",
    "    (\"x\", \"?\"), # 8\n",
    "    (\"x\", \"?\"), # 9\n",
    "    (\"x\", \"?\"), # 10\n",
    "    (\"x\", \"?\"), # 11\n",
    "    (\"x\", \"?\"), # 12\n",
    "    (\"x\", \"?\"), # 13\n",
    "    (\"x\", \"?\"), # 14\n",
    "    (\"x\", \"?\"), # 15\n",
    "    (\"h\", \"probe2_temp\"),\n",
    "    (\"x\", \"?\"),\n",
    "    (\"x\", \"?\"),\n",
    "    (\"b\", \"curve_remain_time\"),\n",
    "    (\"x\", \"?\"),\n",
    "    (\"x\", \"?\"),\n",
    "    (\"x\", \"?\"),\n",
    "    (\"b\", \"warn_code\"),\n",
    "    (\"x\", \"?\"),\n",
    "    (\"x\", \"?\"),\n",
    "    (\"x\", \"?\"),\n",
    "    (\"h\", \"probe1_target\"),\n",
    "    (\"b\", \"grill_state\"), # 30\n",
    "    (\"b\", \"grill_mode\"),\n",
    "    (\"b\", \"fire_state\"),\n",
    "    (\"b\", \"fire_state_pct\"),\n",
    "    (\"x\", \"?\"),\n",
    "    (\"x\", \"?\"),\n",
    "]"
   ]
  },
  {
   "cell_type": "code",
   "execution_count": 34,
   "id": "701867b8",
   "metadata": {},
   "outputs": [],
   "source": [
    "def specunpack(spec, buf, byte_order=\"\"):\n",
    "    \"\"\"\n",
    "    Given a 'spec' for a structure which is a sequence of tuple pairs, each\n",
    "    consisting of a struct format character and a 'name'. On unpacking 'buf',\n",
    "    the names are used in the returned dictionary.\n",
    "\n",
    "    Pad characters ('x') are ignored; the name in those pairs is irrelevant.\n",
    "    \"\"\"\n",
    "    format_ = [byte_order]\n",
    "    names = set()\n",
    "    for part, name in spec:\n",
    "        format_.append(part)\n",
    "        if \"x\" in part:\n",
    "            continue\n",
    "        if name in names:\n",
    "            raise ValueError(f\"duplicate names: {name}\")\n",
    "        names.add(name)\n",
    "    unpacked = struct.unpack(\"\".join(format_), buf)\n",
    "    output = {}\n",
    "    for name, data in zip((name for part, name in spec if \"x\" not in part), unpacked):\n",
    "        output[name] = data\n",
    "    return output"
   ]
  },
  {
   "cell_type": "code",
   "execution_count": 35,
   "id": "e9116729",
   "metadata": {},
   "outputs": [
    {
     "data": {
      "text/plain": [
       "{'grill_temp': 37,\n",
       " 'probe1_temp': 601,\n",
       " 'grill_target': 150,\n",
       " 'probe2_temp': 38,\n",
       " 'curve_remain_time': -1,\n",
       " 'warn_code': 0,\n",
       " 'probe1_target': 0,\n",
       " 'grill_state': 0,\n",
       " 'grill_mode': 0,\n",
       " 'fire_state': 1,\n",
       " 'fire_state_pct': 0}"
      ]
     },
     "execution_count": 35,
     "metadata": {},
     "output_type": "execute_result"
    }
   ],
   "source": [
    "specunpack(spec, info_data, byte_order=\"<\")"
   ]
  },
  {
   "cell_type": "markdown",
   "id": "8a73e415",
   "metadata": {},
   "source": [
    "# Reverse Engineering Fields"
   ]
  },
  {
   "cell_type": "code",
   "execution_count": 36,
   "id": "da1fe118",
   "metadata": {},
   "outputs": [],
   "source": [
    "import datetime\n",
    "import subprocess\n",
    "\n",
    "def xxd(buf):\n",
    "    \"\"\"call xxd on some binary\"\"\"\n",
    "    p = subprocess.Popen(['xxd', \"-\"], stdout=subprocess.PIPE, stdin=subprocess.PIPE, stderr=subprocess.PIPE)\n",
    "    stdout_data = p.communicate(input=data)[0].decode()\n",
    "    print(stdout_data)"
   ]
  },
  {
   "cell_type": "markdown",
   "id": "2f44792f",
   "metadata": {},
   "source": [
    "Nothing plugged in to probes, grill off"
   ]
  },
  {
   "cell_type": "code",
   "execution_count": 216,
   "id": "55603f3d",
   "metadata": {},
   "outputs": [
    {
     "name": "stdout",
     "output_type": "stream",
     "text": [
      "2022-02-09T00:22:43.839540\n",
      "\n",
      "00000000: 5552 2500 5902 9600 050a 1432 1919 1919  UR%.Y......2....\n",
      "00000010: 5902 0000 ffff ffff 0000 0000 0000 0000  Y...............\n",
      "00000020: 0100 0003                                ....\n",
      "\n"
     ]
    },
    {
     "data": {
      "text/plain": [
       "{'grill_temp': 37,\n",
       " 'food_temp': 601,\n",
       " 'grill_target': 150,\n",
       " 'curve_remain_time': -1,\n",
       " 'warn_code': 0,\n",
       " 'food_target': 0,\n",
       " 'grill_state': 0,\n",
       " 'grill_mode': 0,\n",
       " 'fire_state': 1,\n",
       " 'fire_state_pct': 0}"
      ]
     },
     "execution_count": 216,
     "metadata": {},
     "output_type": "execute_result"
    }
   ],
   "source": [
    "print(datetime.datetime.utcnow().isoformat())\n",
    "print()\n",
    "data = send_command(INFO, mac_to_ip[gmg_mac])\n",
    "xxd(data)\n",
    "docunpack(spec, data)"
   ]
  },
  {
   "cell_type": "markdown",
   "id": "3bde1b2f",
   "metadata": {},
   "source": [
    "Probe 1 plugged in"
   ]
  },
  {
   "cell_type": "code",
   "execution_count": 218,
   "id": "19ba709c",
   "metadata": {},
   "outputs": [
    {
     "name": "stdout",
     "output_type": "stream",
     "text": [
      "2022-02-09T00:24:16.204785\n",
      "\n",
      "00000000: 5552 2500 3d00 9600 050a 1432 1919 1919  UR%.=......2....\n",
      "00000010: 5902 0000 ffff ffff 0000 0000 0000 0000  Y...............\n",
      "00000020: 0100 0003                                ....\n",
      "\n"
     ]
    },
    {
     "data": {
      "text/plain": [
       "{'grill_temp': 37,\n",
       " 'food_temp': 61,\n",
       " 'grill_target': 150,\n",
       " 'curve_remain_time': -1,\n",
       " 'warn_code': 0,\n",
       " 'food_target': 0,\n",
       " 'grill_state': 0,\n",
       " 'grill_mode': 0,\n",
       " 'fire_state': 1,\n",
       " 'fire_state_pct': 0}"
      ]
     },
     "execution_count": 218,
     "metadata": {},
     "output_type": "execute_result"
    }
   ],
   "source": [
    "print(datetime.datetime.utcnow().isoformat())\n",
    "print()\n",
    "data = send_command(INFO, mac_to_ip[gmg_mac])\n",
    "xxd(data)\n",
    "docunpack(spec, data)"
   ]
  },
  {
   "cell_type": "markdown",
   "id": "da532bea",
   "metadata": {},
   "source": [
    "Probe 1 unplugged, probe 2 plugged in"
   ]
  },
  {
   "cell_type": "code",
   "execution_count": 225,
   "id": "3245737d",
   "metadata": {},
   "outputs": [
    {
     "name": "stdout",
     "output_type": "stream",
     "text": [
      "2022-02-09T00:27:52.654772\n",
      "\n",
      "00000000: 5552 2500 5902 9600 050a 1432 1919 1919  UR%.Y......2....\n",
      "00000010: 2400 0000 ffff ffff 0000 0000 0000 0000  $...............\n",
      "00000020: 0100 0003                                ....\n",
      "\n"
     ]
    },
    {
     "data": {
      "text/plain": [
       "{'grill_temp': 37,\n",
       " 'probe1_temp': 601,\n",
       " 'grill_target': 150,\n",
       " 'probe2_temp': 36,\n",
       " 'curve_remain_time': -1,\n",
       " 'warn_code': 0,\n",
       " 'probe1_target': 0,\n",
       " 'grill_state': 0,\n",
       " 'grill_mode': 0,\n",
       " 'fire_state': 1,\n",
       " 'fire_state_pct': 0}"
      ]
     },
     "execution_count": 225,
     "metadata": {},
     "output_type": "execute_result"
    }
   ],
   "source": [
    "print(datetime.datetime.utcnow().isoformat())\n",
    "print()\n",
    "data = send_command(INFO, mac_to_ip[gmg_mac])\n",
    "xxd(data)\n",
    "docunpack(spec, data)"
   ]
  }
 ],
 "metadata": {
  "kernelspec": {
   "display_name": "Global 3.8",
   "language": "python",
   "name": "global3"
  },
  "language_info": {
   "codemirror_mode": {
    "name": "ipython",
    "version": 3
   },
   "file_extension": ".py",
   "mimetype": "text/x-python",
   "name": "python",
   "nbconvert_exporter": "python",
   "pygments_lexer": "ipython3",
   "version": "3.8.10"
  }
 },
 "nbformat": 4,
 "nbformat_minor": 5
}
